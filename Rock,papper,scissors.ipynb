{
  "nbformat": 4,
  "nbformat_minor": 0,
  "metadata": {
    "colab": {
      "provenance": [],
      "authorship_tag": "ABX9TyOKlQaCLz71kMu8S8DJqVGV",
      "include_colab_link": true
    },
    "kernelspec": {
      "name": "python3",
      "display_name": "Python 3"
    },
    "language_info": {
      "name": "python"
    }
  },
  "cells": [
    {
      "cell_type": "markdown",
      "metadata": {
        "id": "view-in-github",
        "colab_type": "text"
      },
      "source": [
        "<a href=\"https://colab.research.google.com/github/PDurgaAnusha/python/blob/main/Rock%2Cpapper%2Cscissors.ipynb\" target=\"_parent\"><img src=\"https://colab.research.google.com/assets/colab-badge.svg\" alt=\"Open In Colab\"/></a>"
      ]
    },
    {
      "cell_type": "code",
      "execution_count": null,
      "metadata": {
        "colab": {
          "base_uri": "https://localhost:8080/"
        },
        "id": "ZXC6VxNO7oI-",
        "outputId": "907e627b-ec8a-4029-8397-af499ef2e95e"
      },
      "outputs": [
        {
          "output_type": "stream",
          "name": "stdout",
          "text": [
            "Rock, Paper or  Scissors? Rock\n",
            "You lose! Paper covers Rock\n",
            "Rock, Paper or  Scissors? paper\n",
            "Tie!\n",
            "Rock, Paper or  Scissors? Rock\n",
            "You lose! Paper covers Rock\n"
          ]
        }
      ],
      "source": [
        "#importing random module\n",
        "import random\n",
        "#Declaring available resourses\n",
        "options = [\"Rock\", \"Paper\", \"Scissors\"]\n",
        "\n",
        "#Selecting random option for machine\n",
        "machine = random.choice(options)\n",
        "\n",
        "#Declaring scores\n",
        "user = False\n",
        "machine_score = 0\n",
        "user_score = 0\n",
        "\n",
        "while True:\n",
        "    user = input(\"Rock, Paper or  Scissors? \").capitalize()\n",
        "    # Conditions of Rock, Paper and Scissors\n",
        "    if user == machine:\n",
        "        print(\"Tie!\")\n",
        "    elif user == \"Rock\":\n",
        "        if machine == \"Paper\":\n",
        "            print(\"You lose!\", machine, \"covers\", user)\n",
        "            machine_score+=1\n",
        "        else:\n",
        "            print(\"You win!\", user, \"smashes\", machine)\n",
        "            user_score+=1\n",
        "    elif user == \"Paper\":\n",
        "        if machine  == \"Scissors\":\n",
        "            print(\"You lose!\", machine, \"cut\", user)\n",
        "            machine_score+=1\n",
        "        else:\n",
        "            print(\"You win!\", user, \"covers\", machine)\n",
        "            user_score+=1\n",
        "    elif user == \"Scissors\":\n",
        "        if machine == \"Rock\":\n",
        "            print(\"You lose...\", machine, \"smashes\", user)\n",
        "            machine_score+=1\n",
        "        else:\n",
        "            print(\"You win!\", user, \"cut\", machine)\n",
        "            user_score+=1\n",
        "    elif user =='End':\n",
        "        print(\"Final Scores:\")\n",
        "        print(f\"Computer's score is:{machine_score}\")\n",
        "        print(f\"Your score is:{user_score}\")\n",
        "        break"
      ]
    }
  ]
}